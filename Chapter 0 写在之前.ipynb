{
 "cells": [
  {
   "cell_type": "markdown",
   "metadata": {},
   "source": [
    "很多统计书籍往往只关注了公式推导或者具体应用，所以我打算写一个理论和实际结合的统计学教程，主要借鉴的是傅冬生版本的《概论率与数理统计》以及David R. Anderson的《商务与经济统计》（中文版，原书第13版）。\n",
    "\n",
    "本教程采用的编程语言是Python，环境是Jupyter Notebook，使用这个平台的最大原因在于它的交互性。这使得读者能够一边学习理论，一边实际操作，即学即用，真正实现了理论和实践的高度结合。\n",
    "\n",
    "本书采用的例子大多数是真实的数据，所有数据均在Data文件夹中可以找到，另外教程中亦有原始数据的下载链接，链接地址的网页上可能有读者所需要的数据更详细的文档。\n",
    "\n",
    "原则：**理解原理，学会运用**。\n",
    "\n",
    "由于Github不支持Jupyter Notebook的浏览，因此请到以下网站查看：<https://nbviewer.jupyter.org/github/FangZiyong/Statistics/tree/master/>\n",
    "\n",
    "作者能力有限，错误在所难免，如果有发现任何错误或者不当之处，或者对教程有什么建议，欢迎随时联系作者。\n",
    "\n",
    "联系方式：\n",
    "\n",
    "电子邮箱：ziyongfang@qq.com，一天之内回复。\n",
    "\n",
    "微信：fzy409515，看到了就回复。"
   ]
  }
 ],
 "metadata": {
  "kernelspec": {
   "display_name": "Python 3",
   "language": "python",
   "name": "python3"
  },
  "language_info": {
   "codemirror_mode": {
    "name": "ipython",
    "version": 3
   },
   "file_extension": ".py",
   "mimetype": "text/x-python",
   "name": "python",
   "nbconvert_exporter": "python",
   "pygments_lexer": "ipython3",
   "version": "3.7.3"
  }
 },
 "nbformat": 4,
 "nbformat_minor": 2
}
