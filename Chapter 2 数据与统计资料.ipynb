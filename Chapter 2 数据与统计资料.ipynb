{
 "cells": [
  {
   "cell_type": "markdown",
   "metadata": {
    "slideshow": {
     "slide_type": "subslide"
    }
   },
   "source": [
    "# 数据和统计资料"
   ]
  },
  {
   "cell_type": "markdown",
   "metadata": {
    "heading_collapsed": true,
    "slideshow": {
     "slide_type": "subslide"
    }
   },
   "source": [
    "## 1.1 为什么学习统计学"
   ]
  },
  {
   "cell_type": "markdown",
   "metadata": {
    "hidden": true,
    "slideshow": {
     "slide_type": "subslide"
    }
   },
   "source": [
    "哪来这么多问题，学就完事了！\n",
    "\n",
    "你真要问的话，我只能说，为了 ~~**修身**，**齐家**，**治国**，**平天下**~~。（误）\n",
    "\n",
    "可以**挣钱**。"
   ]
  },
  {
   "cell_type": "markdown",
   "metadata": {
    "heading_collapsed": true,
    "slideshow": {
     "slide_type": "subslide"
    }
   },
   "source": [
    "## 1.2 数据"
   ]
  },
  {
   "cell_type": "code",
   "execution_count": 1,
   "metadata": {
    "ExecuteTime": {
     "end_time": "2019-06-17T12:40:05.485184Z",
     "start_time": "2019-06-17T12:40:05.080947Z"
    },
    "hidden": true,
    "slideshow": {
     "slide_type": "notes"
    }
   },
   "outputs": [
    {
     "data": {
      "text/html": [
       "<div>\n",
       "<style scoped>\n",
       "    .dataframe tbody tr th:only-of-type {\n",
       "        vertical-align: middle;\n",
       "    }\n",
       "\n",
       "    .dataframe tbody tr th {\n",
       "        vertical-align: top;\n",
       "    }\n",
       "\n",
       "    .dataframe thead th {\n",
       "        text-align: right;\n",
       "    }\n",
       "</style>\n",
       "<table border=\"1\" class=\"dataframe\">\n",
       "  <thead>\n",
       "    <tr style=\"text-align: right;\">\n",
       "      <th></th>\n",
       "      <th>CustomerID</th>\n",
       "      <th>Gender</th>\n",
       "      <th>Age</th>\n",
       "      <th>Annual Income (k$)</th>\n",
       "      <th>Spending Score (1-100)</th>\n",
       "    </tr>\n",
       "  </thead>\n",
       "  <tbody>\n",
       "    <tr>\n",
       "      <th>0</th>\n",
       "      <td>1</td>\n",
       "      <td>Male</td>\n",
       "      <td>19</td>\n",
       "      <td>15</td>\n",
       "      <td>39</td>\n",
       "    </tr>\n",
       "    <tr>\n",
       "      <th>1</th>\n",
       "      <td>2</td>\n",
       "      <td>Male</td>\n",
       "      <td>21</td>\n",
       "      <td>15</td>\n",
       "      <td>81</td>\n",
       "    </tr>\n",
       "    <tr>\n",
       "      <th>2</th>\n",
       "      <td>3</td>\n",
       "      <td>Female</td>\n",
       "      <td>20</td>\n",
       "      <td>16</td>\n",
       "      <td>6</td>\n",
       "    </tr>\n",
       "    <tr>\n",
       "      <th>3</th>\n",
       "      <td>4</td>\n",
       "      <td>Female</td>\n",
       "      <td>23</td>\n",
       "      <td>16</td>\n",
       "      <td>77</td>\n",
       "    </tr>\n",
       "    <tr>\n",
       "      <th>4</th>\n",
       "      <td>5</td>\n",
       "      <td>Female</td>\n",
       "      <td>31</td>\n",
       "      <td>17</td>\n",
       "      <td>40</td>\n",
       "    </tr>\n",
       "  </tbody>\n",
       "</table>\n",
       "</div>"
      ],
      "text/plain": [
       "   CustomerID  Gender  Age  Annual Income (k$)  Spending Score (1-100)\n",
       "0           1    Male   19                  15                      39\n",
       "1           2    Male   21                  15                      81\n",
       "2           3  Female   20                  16                       6\n",
       "3           4  Female   23                  16                      77\n",
       "4           5  Female   31                  17                      40"
      ]
     },
     "execution_count": 1,
     "metadata": {},
     "output_type": "execute_result"
    }
   ],
   "source": [
    "import pandas as pd\n",
    "data = pd.read_csv('Data/Mall_Customers.csv')\n",
    "data.head(5)"
   ]
  },
  {
   "cell_type": "markdown",
   "metadata": {
    "hidden": true,
    "slideshow": {
     "slide_type": "subslide"
    }
   },
   "source": [
    "这是一个从<a href=\"https://www.kaggle.com/vjchoudhary7/customer-segmentation-tutorial-in-python\" >Kaggle</a>上下载的关于商场顾客的简单数据集。可以看到，在这个数据集中共有五列，分别代表了顾客ID，性别，年龄，年收入以及消费评分。在这里，每一行就代表了一个顾客的信息，例如，第一行\n",
    "<table>\n",
    "   <tr>\n",
    "      <td>1</td>\n",
    "      <td>Male</td>\n",
    "      <td>19</td>\n",
    "      <td>15</td>\n",
    "      <td>39</td>\n",
    "   </tr>\n",
    "</table>是一个ID为1，性别为男性，年龄19岁，年收入15 k$，消费评分为39的记录。这样的数据集中的某一个数据就被称为个体，也叫记录，点，样本，观测等。每列都代表了这些记录的某一个属性，例如，第一个记录的性别属性为男性，年龄属性为19岁。\n",
    "\n",
    "接下来我们仔细观察一下这些数据。在这里我们会发现不同的属性的值有一些差别，例如，在这里客户ID是个唯一的整数值，性别属性只有男性和女性两种取值，年龄是很多的整数值，年收入尽管在这里是一些简单的以千美元作为单位的整数值，但是我们知道，实际中的收入可能是精确到角的数值，最后的评分是1-100之间的整数。在我们之后的处理中，不同的属性类型有不同的处理方式，因此我们有必要区分一下这些属性。\n",
    "\n",
    "我们将属性分为以下四类：\n",
    "* **标称**：仅仅用来区分不同的事务，例如这里的顾客ID，邮政编码，学号等，这样的属性只有相等和不相等的运算。\n",
    "* **序数**：能够提供足够的信息的比较顺序，例如评价某事物用“一般”、“好”、“非常好”，这样的属性可以做大小比较的运算。\n",
    "* **区间**：定量化的比较，例如温度，这样的属性可以用来做加减运算。\n",
    "* **比率**：差值和比率也有意义，例如收入数据，可以做乘除运算。"
   ]
  },
  {
   "cell_type": "markdown",
   "metadata": {
    "heading_collapsed": true,
    "slideshow": {
     "slide_type": "subslide"
    }
   },
   "source": [
    "## 1.3 数据来源"
   ]
  },
  {
   "cell_type": "markdown",
   "metadata": {
    "hidden": true,
    "slideshow": {
     "slide_type": "subslide"
    }
   },
   "source": [
    "数据的来源是多种多样的，小到你今天的花钱情况，大到国家统计年鉴，都会产生海量的数据。在这个教程中所使用的公共数据，如果能直接从网站下载，都会以链接的方式呈现出来，读者可以自行点击下载。\n",
    "    \n",
    "在这里提供部分数据源链接以供参考。\n",
    "\n",
    "* [**Kaggle**](https://www.kaggle.com/)是一个数据科学网站，在这里会提供数据竞赛，也有很多供用户学习下载的数据集。\n",
    "* [**UCI机器学习库**](http://archive.ics.uci.edu/ml/index.php)提供了很多经典的数据集，如[鸢尾花数据集](http://archive.ics.uci.edu/ml/datasets/Iris)，[红酒品质数据集](http://archive.ics.uci.edu/ml/datasets/Wine)，[心脏病数据集](http://archive.ics.uci.edu/ml/datasets/Heart+Disease)等。\n",
    "* [**世界银行公开数据**](https://data.worldbank.org/)涵盖世界各地的金融、服务指标等数据。\n",
    "* [**Gapminder**](https://www.gapminder.org/data/)\n",
    "\n",
    "多下载数据，多分析，实践会让你的学习倍儿有成就感，实践一时爽，一直实践一直爽。"
   ]
  },
  {
   "cell_type": "markdown",
   "metadata": {
    "heading_collapsed": true,
    "slideshow": {
     "slide_type": "subslide"
    }
   },
   "source": [
    "## 1.4 描述统计"
   ]
  },
  {
   "cell_type": "markdown",
   "metadata": {
    "hidden": true,
    "slideshow": {
     "slide_type": "subslide"
    }
   },
   "source": [
    "如果数据只是躺在表格里，无论它包含着多么神奇的规律，即使它蕴含着找到对象的秘密，你也会对此视而不见，所以我们要探索数据，用表格、图形或者数值汇总的统计方法处理数据，这就是描述统计。\n",
    "\n",
    "举个例子，我们尝试描述刚刚的商场顾客信息。"
   ]
  },
  {
   "cell_type": "code",
   "execution_count": 2,
   "metadata": {
    "ExecuteTime": {
     "end_time": "2019-06-17T12:40:05.498576Z",
     "start_time": "2019-06-17T12:40:05.486641Z"
    },
    "hidden": true
   },
   "outputs": [
    {
     "data": {
      "text/plain": [
       "Female    112\n",
       "Male       88\n",
       "Name: Gender, dtype: int64"
      ]
     },
     "metadata": {},
     "output_type": "display_data"
    },
    {
     "name": "stdout",
     "output_type": "stream",
     "text": [
      "女性人数比男性人数多出24人，占男性人数的27.27 %\n"
     ]
    }
   ],
   "source": [
    "counts_sex = data['Gender'].value_counts()  ###各个性别的人数\n",
    "display(counts_sex)\n",
    "print(\n",
    "    '女性人数比男性人数多出%d人，占男性人数的%.2f' %\n",
    "    (counts_sex['Female'] - counts_sex['Male'],\n",
    "     (counts_sex['Female'] - counts_sex['Male']) / counts_sex['Male'] * 100),\n",
    "    '%')"
   ]
  },
  {
   "cell_type": "markdown",
   "metadata": {
    "hidden": true
   },
   "source": [
    "可以看到，在这个商场顾客信息中，女性顾客要比男性顾客多24人，比男性多出27.2%。\n",
    "\n",
    "接下来我们再用图的形式，描述一下各个消费评分的顾客数目，以查看消费评分的分布。"
   ]
  },
  {
   "cell_type": "code",
   "execution_count": 3,
   "metadata": {
    "ExecuteTime": {
     "end_time": "2019-06-17T12:40:05.578484Z",
     "start_time": "2019-06-17T12:40:05.500544Z"
    },
    "hidden": true
   },
   "outputs": [
    {
     "data": {
      "text/html": [
       "<script>\n",
       "    require.config({\n",
       "        paths: {\n",
       "            'echarts':'https://assets.pyecharts.org/assets/echarts.min'\n",
       "        }\n",
       "    });\n",
       "</script>\n",
       "\n",
       "    <div id=\"4857f19da1514e9f857e291d707ec9ef\" style=\"width:900px; height:500px;\"></div>\n",
       "\n",
       "\n",
       "<script>\n",
       "    require(['echarts'], function(echarts) {\n",
       "        var chart_4857f19da1514e9f857e291d707ec9ef = echarts.init(\n",
       "            document.getElementById('4857f19da1514e9f857e291d707ec9ef'), 'white', {renderer: 'canvas'});\n",
       "        var option_4857f19da1514e9f857e291d707ec9ef = {\n",
       "    \"color\": [\n",
       "        \"#c23531\",\n",
       "        \"#2f4554\",\n",
       "        \"#61a0a8\",\n",
       "        \"#d48265\",\n",
       "        \"#749f83\",\n",
       "        \"#ca8622\",\n",
       "        \"#bda29a\",\n",
       "        \"#6e7074\",\n",
       "        \"#546570\",\n",
       "        \"#c4ccd3\",\n",
       "        \"#f05b72\",\n",
       "        \"#ef5b9c\",\n",
       "        \"#f47920\",\n",
       "        \"#905a3d\",\n",
       "        \"#fab27b\",\n",
       "        \"#2a5caa\",\n",
       "        \"#444693\",\n",
       "        \"#726930\",\n",
       "        \"#b2d235\",\n",
       "        \"#6d8346\",\n",
       "        \"#ac6767\",\n",
       "        \"#1d953f\",\n",
       "        \"#6950a1\",\n",
       "        \"#918597\"\n",
       "    ],\n",
       "    \"series\": [\n",
       "        {\n",
       "            \"type\": \"bar\",\n",
       "            \"name\": \"\\u5404\\u4e2a\\u6d88\\u8d39\\u8bc4\\u5206\\u7684\\u987e\\u5ba2\\u4eba\\u6570\",\n",
       "            \"data\": [\n",
       "                2,\n",
       "                1,\n",
       "                2,\n",
       "                4,\n",
       "                2,\n",
       "                1,\n",
       "                1,\n",
       "                1,\n",
       "                2,\n",
       "                1,\n",
       "                1,\n",
       "                3,\n",
       "                4,\n",
       "                3,\n",
       "                2,\n",
       "                3,\n",
       "                1,\n",
       "                2,\n",
       "                1,\n",
       "                1,\n",
       "                1,\n",
       "                2,\n",
       "                1,\n",
       "                2,\n",
       "                2,\n",
       "                1,\n",
       "                2,\n",
       "                1,\n",
       "                5,\n",
       "                2,\n",
       "                2,\n",
       "                4,\n",
       "                4,\n",
       "                8,\n",
       "                3,\n",
       "                1,\n",
       "                1,\n",
       "                6,\n",
       "                4,\n",
       "                5,\n",
       "                3,\n",
       "                5,\n",
       "                3,\n",
       "                5,\n",
       "                1,\n",
       "                3,\n",
       "                7,\n",
       "                4,\n",
       "                2,\n",
       "                2,\n",
       "                5,\n",
       "                3,\n",
       "                2,\n",
       "                1,\n",
       "                1,\n",
       "                1,\n",
       "                1,\n",
       "                2,\n",
       "                1,\n",
       "                2,\n",
       "                6,\n",
       "                2,\n",
       "                5,\n",
       "                2,\n",
       "                3,\n",
       "                1,\n",
       "                2,\n",
       "                2,\n",
       "                1,\n",
       "                2,\n",
       "                1,\n",
       "                2,\n",
       "                2,\n",
       "                3,\n",
       "                1,\n",
       "                2,\n",
       "                2,\n",
       "                3,\n",
       "                2,\n",
       "                1,\n",
       "                2,\n",
       "                2,\n",
       "                1,\n",
       "                1\n",
       "            ],\n",
       "            \"barCategoryGap\": \"20%\",\n",
       "            \"label\": {\n",
       "                \"show\": true,\n",
       "                \"position\": \"top\",\n",
       "                \"margin\": 8,\n",
       "                \"fontSize\": 12\n",
       "            }\n",
       "        }\n",
       "    ],\n",
       "    \"legend\": [\n",
       "        {\n",
       "            \"data\": [\n",
       "                \"\\u5404\\u4e2a\\u6d88\\u8d39\\u8bc4\\u5206\\u7684\\u987e\\u5ba2\\u4eba\\u6570\"\n",
       "            ],\n",
       "            \"selected\": {\n",
       "                \"\\u5404\\u4e2a\\u6d88\\u8d39\\u8bc4\\u5206\\u7684\\u987e\\u5ba2\\u4eba\\u6570\": true\n",
       "            },\n",
       "            \"show\": true\n",
       "        }\n",
       "    ],\n",
       "    \"tooltip\": {\n",
       "        \"show\": true,\n",
       "        \"trigger\": \"item\",\n",
       "        \"triggerOn\": \"mousemove|click\",\n",
       "        \"axisPointer\": {\n",
       "            \"type\": \"line\"\n",
       "        },\n",
       "        \"textStyle\": {\n",
       "            \"fontSize\": 14\n",
       "        },\n",
       "        \"borderWidth\": 0\n",
       "    },\n",
       "    \"yAxis\": [\n",
       "        {\n",
       "            \"show\": true,\n",
       "            \"scale\": false,\n",
       "            \"nameLocation\": \"end\",\n",
       "            \"nameGap\": 15,\n",
       "            \"gridIndex\": 0,\n",
       "            \"inverse\": false,\n",
       "            \"offset\": 0,\n",
       "            \"splitNumber\": 5,\n",
       "            \"minInterval\": 0,\n",
       "            \"splitLine\": {\n",
       "                \"show\": false,\n",
       "                \"lineStyle\": {\n",
       "                    \"width\": 1,\n",
       "                    \"opacity\": 1,\n",
       "                    \"curveness\": 0,\n",
       "                    \"type\": \"solid\"\n",
       "                }\n",
       "            }\n",
       "        }\n",
       "    ],\n",
       "    \"xAxis\": [\n",
       "        {\n",
       "            \"show\": true,\n",
       "            \"scale\": false,\n",
       "            \"nameLocation\": \"end\",\n",
       "            \"nameGap\": 15,\n",
       "            \"gridIndex\": 0,\n",
       "            \"inverse\": false,\n",
       "            \"offset\": 0,\n",
       "            \"splitNumber\": 5,\n",
       "            \"minInterval\": 0,\n",
       "            \"splitLine\": {\n",
       "                \"show\": false,\n",
       "                \"lineStyle\": {\n",
       "                    \"width\": 1,\n",
       "                    \"opacity\": 1,\n",
       "                    \"curveness\": 0,\n",
       "                    \"type\": \"solid\"\n",
       "                }\n",
       "            },\n",
       "            \"data\": [\n",
       "                1,\n",
       "                3,\n",
       "                4,\n",
       "                5,\n",
       "                6,\n",
       "                7,\n",
       "                8,\n",
       "                9,\n",
       "                10,\n",
       "                11,\n",
       "                12,\n",
       "                13,\n",
       "                14,\n",
       "                15,\n",
       "                16,\n",
       "                17,\n",
       "                18,\n",
       "                20,\n",
       "                22,\n",
       "                23,\n",
       "                24,\n",
       "                26,\n",
       "                27,\n",
       "                28,\n",
       "                29,\n",
       "                31,\n",
       "                32,\n",
       "                34,\n",
       "                35,\n",
       "                36,\n",
       "                39,\n",
       "                40,\n",
       "                41,\n",
       "                42,\n",
       "                43,\n",
       "                44,\n",
       "                45,\n",
       "                46,\n",
       "                47,\n",
       "                48,\n",
       "                49,\n",
       "                50,\n",
       "                51,\n",
       "                52,\n",
       "                53,\n",
       "                54,\n",
       "                55,\n",
       "                56,\n",
       "                57,\n",
       "                58,\n",
       "                59,\n",
       "                60,\n",
       "                61,\n",
       "                63,\n",
       "                65,\n",
       "                66,\n",
       "                68,\n",
       "                69,\n",
       "                71,\n",
       "                72,\n",
       "                73,\n",
       "                74,\n",
       "                75,\n",
       "                76,\n",
       "                77,\n",
       "                78,\n",
       "                79,\n",
       "                81,\n",
       "                82,\n",
       "                83,\n",
       "                85,\n",
       "                86,\n",
       "                87,\n",
       "                88,\n",
       "                89,\n",
       "                90,\n",
       "                91,\n",
       "                92,\n",
       "                93,\n",
       "                94,\n",
       "                95,\n",
       "                97,\n",
       "                98,\n",
       "                99\n",
       "            ]\n",
       "        }\n",
       "    ],\n",
       "    \"title\": [\n",
       "        {\n",
       "            \"text\": \"\\u987e\\u5ba2\\u6d88\\u8d39\\u8bc4\\u5206\\u5206\\u5e03\"\n",
       "        }\n",
       "    ],\n",
       "    \"dataZoom\": [\n",
       "        {\n",
       "            \"show\": true,\n",
       "            \"type\": \"inside\",\n",
       "            \"realtime\": true,\n",
       "            \"start\": 20,\n",
       "            \"end\": 80,\n",
       "            \"orient\": \"horizontal\",\n",
       "            \"zoomLock\": false\n",
       "        },\n",
       "        {\n",
       "            \"show\": true,\n",
       "            \"type\": \"slider\",\n",
       "            \"realtime\": true,\n",
       "            \"start\": 20,\n",
       "            \"end\": 80,\n",
       "            \"orient\": \"horizontal\",\n",
       "            \"zoomLock\": false\n",
       "        }\n",
       "    ]\n",
       "};\n",
       "        chart_4857f19da1514e9f857e291d707ec9ef.setOption(option_4857f19da1514e9f857e291d707ec9ef);\n",
       "    });\n",
       "</script>\n"
      ],
      "text/plain": [
       "<pyecharts.render.display.HTML at 0x2a04fb04d68>"
      ]
     },
     "execution_count": 3,
     "metadata": {},
     "output_type": "execute_result"
    }
   ],
   "source": [
    "count_score = data['Spending Score (1-100)'].value_counts().sort_index()\n",
    "from pyecharts import options as opts\n",
    "from pyecharts.charts import Bar\n",
    "\n",
    "c = (Bar().add_xaxis(list(count_score.index)).add_yaxis(\n",
    "    '各个消费评分的顾客人数', list(count_score)).set_global_opts(\n",
    "        title_opts=opts.TitleOpts(title=\"顾客消费评分分布\"),\n",
    "        datazoom_opts=[opts.DataZoomOpts(type_='inside'),\n",
    "                       opts.DataZoomOpts()]))\n",
    "c.render_notebook()"
   ]
  },
  {
   "cell_type": "markdown",
   "metadata": {
    "heading_collapsed": true
   },
   "source": [
    "## 1.5 统计推断"
   ]
  },
  {
   "cell_type": "markdown",
   "metadata": {
    "hidden": true
   },
   "source": [
    "现实中，因为种种原因，如时间，成本等因素，我们往往不能获得总体的数据，只能通过样本，也就是总体的一个子集，的统计值来对整体进行推断。\n",
    "\n",
    "例如，我们上述统计描述“样本中女性人数多于男性”，来进行统计推断，该商场的顾客总体女性人数多于男性。"
   ]
  },
  {
   "cell_type": "markdown",
   "metadata": {
    "heading_collapsed": true
   },
   "source": [
    "## 1.6 逻辑分析方法"
   ]
  },
  {
   "cell_type": "markdown",
   "metadata": {
    "hidden": true
   },
   "source": [
    "有了数据，我们需要利用我们拿到的数据以做出更好的决策，这一科学过程就被称为逻辑分析方法。\n",
    "\n",
    "* **描述性分析** 描述过去发生的事情。例如，你高考考了多少分，各个科目的得分率分别是多少，每一科在全校学生中是第几名等等一系列扎心的数据。\n",
    "* **预测性分析** 对过去数据建模以预测未来或者评估一个变量对另一个变量的影响。对于预测未来，例如，放假之后的前十天，你的体重每天涨了0.2千克，那么按照这种趋势，未来的十天，你的体重将再增加2千克；对于评价变量的影响，例如，上学之后，你经常溜出去吃夜宵，经常喝奶茶，偶尔吃薯片，时不时来个甜筒，评估其中的任何一个变量对于你体重增加的影响，也是一种预测性分析。\n",
    "* **规范性分析** 在约束条件下产生一个最佳最佳行动计划。例如，你双十一剁手了， 只剩了四百块了度过剩下的19天了，你需要在这个约束条件下拿出一个活下去的花钱策略。"
   ]
  },
  {
   "cell_type": "markdown",
   "metadata": {
    "heading_collapsed": true
   },
   "source": [
    "## 1.7 大数据和数据挖掘"
   ]
  },
  {
   "cell_type": "markdown",
   "metadata": {
    "hidden": true
   },
   "source": [
    "数据是无时无刻不在产生的，尤其是进入到信息时代之后，海量信息在各种各样的场景中产生，网页浏览数据，社交动态数据，出行数据，DNA密码子数据，更多、更复杂的数据集就被称为大数据。大数据因其数量巨大，种类多样而不能以传统的方式进行分析，故发展出各种工具，如Hadoop，Spark等进行分析。\n",
    "\n",
    "数据挖掘是一种从数据中自动挖掘出有用信息的技术。例如，运用关联分析技术，挖掘出超市部分商品的购买联系，即某些商品往往会关联购买，买了泡面之后不来一根火腿怎么对得起生活呢，挖掘出这种联系之后就可以进行捆绑销售。"
   ]
  },
  {
   "cell_type": "markdown",
   "metadata": {
    "heading_collapsed": true
   },
   "source": [
    "## 1.8 计算机和统计分析"
   ]
  },
  {
   "cell_type": "markdown",
   "metadata": {
    "hidden": true
   },
   "source": [
    "不学计算机难道用手算？\n",
    "\n",
    "统计分析的软件和语言：\n",
    "\n",
    "[SPSS](https://www.ibm.com/analytics/spss-statistics-software),\n",
    "\n",
    "[SAS](https://www.sas.com/zh_cn/home.html),\n",
    "\n",
    "[Excel](https://www.microsoftstore.com.cn/c/office),\n",
    "\n",
    "[Python](https://www.python.org/),\n",
    "\n",
    "[R语言](https://www.r-project.org/),\n",
    "\n",
    "[Tableau](https://www.tableau.com/)\n"
   ]
  },
  {
   "cell_type": "markdown",
   "metadata": {
    "heading_collapsed": true
   },
   "source": [
    "## 1.9 统计实践中的道德准则"
   ]
  },
  {
   "cell_type": "markdown",
   "metadata": {
    "hidden": true
   },
   "source": [
    "* **真实**  统计千万条，真实第一条。无论数据分析的结果是什么，结果满意与否，是否符合预期，一定如实处理。\n",
    "\n",
    "* **漂亮** 统计不是枯燥无味的，最能体现统计的丰富多彩的部分就是可视化部分，可视化就是统计分析的脸面，人脸是天生的，但可视化是可以尽善尽美的。"
   ]
  }
 ],
 "metadata": {
  "hide_input": true,
  "kernelspec": {
   "display_name": "Python 3",
   "language": "python",
   "name": "python3"
  },
  "language_info": {
   "codemirror_mode": {
    "name": "ipython",
    "version": 3
   },
   "file_extension": ".py",
   "mimetype": "text/x-python",
   "name": "python",
   "nbconvert_exporter": "python",
   "pygments_lexer": "ipython3",
   "version": "3.7.3"
  },
  "toc": {
   "base_numbering": 1,
   "nav_menu": {},
   "number_sections": true,
   "sideBar": true,
   "skip_h1_title": false,
   "title_cell": "Table of Contents",
   "title_sidebar": "Contents",
   "toc_cell": false,
   "toc_position": {},
   "toc_section_display": true,
   "toc_window_display": false
  },
  "varInspector": {
   "cols": {
    "lenName": 16,
    "lenType": 16,
    "lenVar": 40
   },
   "kernels_config": {
    "python": {
     "delete_cmd_postfix": "",
     "delete_cmd_prefix": "del ",
     "library": "var_list.py",
     "varRefreshCmd": "print(var_dic_list())"
    },
    "r": {
     "delete_cmd_postfix": ") ",
     "delete_cmd_prefix": "rm(",
     "library": "var_list.r",
     "varRefreshCmd": "cat(var_dic_list()) "
    }
   },
   "types_to_exclude": [
    "module",
    "function",
    "builtin_function_or_method",
    "instance",
    "_Feature"
   ],
   "window_display": false
  }
 },
 "nbformat": 4,
 "nbformat_minor": 2
}
